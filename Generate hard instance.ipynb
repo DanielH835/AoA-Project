{
 "cells": [
  {
   "cell_type": "code",
   "execution_count": 35,
   "metadata": {},
   "outputs": [],
   "source": [
    "import numpy as np\n",
    "import random\n",
    "a=np.random.randint(1,101,size=[100,10])\n",
    "for j in range(1):\n",
    "    filename = f'hard instance{j}.txt'\n",
    "    with open(filename,'w') as f: \n",
    "        f.write(f\"EDGES\")\n",
    "        for i in range(1,101):\n",
    "            f.write(f\"\\n{i}: \")\n",
    "            for item in a[i-1]:\n",
    "                f.write(f\"{item} \")\n",
    "        f.write(f\"\\nPAIRS\\n\")\n",
    "        s_e_list = random.sample(range(1,101),20)\n",
    "        for i in range(10):\n",
    "            f.write(f\"{s_e_list[2*i]} \")\n",
    "            f.write(f\"{s_e_list[2*i+1]}\\n\")\n"
   ]
  }
 ],
 "metadata": {
  "kernelspec": {
   "display_name": "Python 3",
   "language": "python",
   "name": "python3"
  },
  "language_info": {
   "codemirror_mode": {
    "name": "ipython",
    "version": 3
   },
   "file_extension": ".py",
   "mimetype": "text/x-python",
   "name": "python",
   "nbconvert_exporter": "python",
   "pygments_lexer": "ipython3",
   "version": "3.7.4"
  }
 },
 "nbformat": 4,
 "nbformat_minor": 2
}
